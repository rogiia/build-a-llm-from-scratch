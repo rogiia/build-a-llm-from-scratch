{
 "cells": [
  {
   "cell_type": "markdown",
   "id": "4d76201f-8955-4bb1-8c8e-9408a5a55398",
   "metadata": {},
   "source": [
    "# Chapter 7. Fine-tuning to follow instructions"
   ]
  },
  {
   "cell_type": "markdown",
   "id": "f250087a-95da-49c3-bdc6-6139cd8c1f94",
   "metadata": {},
   "source": [
    "## 7.2. Preparing the dataset for supervised instruction fine-tuning"
   ]
  },
  {
   "cell_type": "code",
   "execution_count": null,
   "id": "74216613-3a6e-4ab4-8668-7793f99d7c74",
   "metadata": {},
   "outputs": [],
   "source": []
  }
 ],
 "metadata": {
  "kernelspec": {
   "display_name": "Python 3 (ipykernel)",
   "language": "python",
   "name": "python3"
  },
  "language_info": {
   "codemirror_mode": {
    "name": "ipython",
    "version": 3
   },
   "file_extension": ".py",
   "mimetype": "text/x-python",
   "name": "python",
   "nbconvert_exporter": "python",
   "pygments_lexer": "ipython3",
   "version": "3.12.9"
  }
 },
 "nbformat": 4,
 "nbformat_minor": 5
}
